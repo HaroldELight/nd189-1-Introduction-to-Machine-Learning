{
 "cells": [
  {
   "cell_type": "code",
   "execution_count": 16,
   "metadata": {},
   "outputs": [
    {
     "name": "stdout",
     "output_type": "stream",
     "text": [
      "[4, 9, 8, 6, 1, 6, 6, 1, 5, 5] 1 10 10\n"
     ]
    }
   ],
   "source": [
    "x = int(input(\"Die kleinste getal in jou range\"))\n",
    "y = int(input(\"Die grootste getal in jou range\"))\n",
    "z = int(input(\"Die hoeveelheid nommers wat jy in jou random lys wil hê\"))\n",
    "\n",
    "r_list = ([random.randrange(x,y) for num in range(z)])\n",
    "print(r_list,x,y,z)"
   ]
  },
  {
   "cell_type": "code",
   "execution_count": null,
   "metadata": {},
   "outputs": [],
   "source": []
  }
 ],
 "metadata": {
  "kernelspec": {
   "display_name": "Python 3",
   "language": "python",
   "name": "python3"
  },
  "language_info": {
   "codemirror_mode": {
    "name": "ipython",
    "version": 3
   },
   "file_extension": ".py",
   "mimetype": "text/x-python",
   "name": "python",
   "nbconvert_exporter": "python",
   "pygments_lexer": "ipython3",
   "version": "3.12.5"
  }
 },
 "nbformat": 4,
 "nbformat_minor": 2
}
